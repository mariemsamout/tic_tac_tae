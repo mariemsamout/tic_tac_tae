{
 "cells": [
  {
   "cell_type": "code",
   "execution_count": null,
   "id": "001fb4c7",
   "metadata": {},
   "outputs": [],
   "source": [
    "import tkinter as tk\n",
    "from tkinter import messagebox\n",
    "\n",
    "class TicTacToe:\n",
    "    def __init__(self, root):\n",
    "        self.root = root\n",
    "        self.root.title(\"Tic Tac Toe Game\")\n",
    "\n",
    "        self.current_player = \"X\"\n",
    "        self.board = [\" \" for _ in range(9)]\n",
    "\n",
    "        self.buttons = []\n",
    "        for i in range(9):\n",
    "            button = tk.Button(root, text=\" \", font=('normal', 20), width=6, height=2,\n",
    "                               command=lambda i=i: self.on_button_click(i))\n",
    "            button.grid(row=i // 3, column=i % 3)\n",
    "            self.buttons.append(button)\n",
    "\n",
    "        restart_button = tk.Button(root, text=\"Restart\", command=self.restart_game)\n",
    "        restart_button.grid(row=3, columnspan=3)\n",
    "\n",
    "    def on_button_click(self, index):\n",
    "        if self.board[index] == \" \":\n",
    "            self.board[index] = self.current_player\n",
    "            self.buttons[index].config(text=self.current_player)\n",
    "            if self.check_winner():\n",
    "                self.end_game()\n",
    "            elif \" \" not in self.board:\n",
    "                self.end_game(draw=True)\n",
    "            else:\n",
    "                self.current_player = \"X\" if self.current_player == \"O\" else \"O\"\n",
    "\n",
    "    def check_winner(self):\n",
    "        win_patterns = [(0, 1, 2), (3, 4, 5), (6, 7, 8),\n",
    "                        (0, 3, 6), (1, 4, 7), (2, 5, 8),\n",
    "                        (0, 4, 8), (2, 4, 6)]\n",
    "        for pattern in win_patterns:\n",
    "            if (self.board[pattern[0]] == self.board[pattern[1]] == self.board[pattern[2]]\n",
    "                    and self.board[pattern[0]] != \" \"):\n",
    "                return True\n",
    "        return False\n",
    "\n",
    "    def end_game(self, draw=False):\n",
    "        if draw:\n",
    "            messagebox.showinfo(\"Game Over\", \"It's a draw!\")\n",
    "        else:\n",
    "            messagebox.showinfo(\"Game Over\", f\"Player {self.current_player} wins!\")\n",
    "        for button in self.buttons:\n",
    "            button.config(state=tk.DISABLED)\n",
    "\n",
    "    def restart_game(self):\n",
    "        self.current_player = \"X\"\n",
    "        self.board = [\" \" for _ in range(9)]\n",
    "        for button in self.buttons:\n",
    "            button.config(text=\" \", state=tk.NORMAL)\n",
    "\n",
    "if __name__ == \"__main__\":\n",
    "    root = tk.Tk()\n",
    "    game = TicTacToe(root)\n",
    "    root.mainloop()\n"
   ]
  },
  {
   "cell_type": "code",
   "execution_count": null,
   "id": "09edda80",
   "metadata": {},
   "outputs": [],
   "source": []
  },
  {
   "cell_type": "code",
   "execution_count": null,
   "id": "f3ae4e06",
   "metadata": {},
   "outputs": [],
   "source": []
  },
  {
   "cell_type": "code",
   "execution_count": null,
   "id": "b72a9860",
   "metadata": {},
   "outputs": [],
   "source": []
  }
 ],
 "metadata": {
  "kernelspec": {
   "display_name": "Python 3 (ipykernel)",
   "language": "python",
   "name": "python3"
  },
  "language_info": {
   "codemirror_mode": {
    "name": "ipython",
    "version": 3
   },
   "file_extension": ".py",
   "mimetype": "text/x-python",
   "name": "python",
   "nbconvert_exporter": "python",
   "pygments_lexer": "ipython3",
   "version": "3.9.12"
  }
 },
 "nbformat": 4,
 "nbformat_minor": 5
}
